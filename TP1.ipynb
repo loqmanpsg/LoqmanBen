{
 "cells": [
  {
   "cell_type": "markdown",
   "id": "12b24dc7",
   "metadata": {},
   "source": [
    "# titre 1\n",
    "\n",
    "## titre 2\n",
    "\n",
    "### titre 3"
   ]
  },
  {
   "cell_type": "code",
   "execution_count": 21,
   "id": "b7a7ad0c",
   "metadata": {},
   "outputs": [
    {
     "name": "stdout",
     "output_type": "stream",
     "text": [
      "x = (f1) 6² = 36\n",
      "x = (f2) X + 'a' = Xa\n"
     ]
    }
   ],
   "source": [
    "def f1(x):\n",
    "    return x * x  \n",
    "\n",
    "def f2(x):\n",
    "    return x + 'a'\n",
    "\n",
    "x = 6\n",
    "resultat_f1 = f1(x)\n",
    "print(f\"x = (f1) {x}² = {resultat_f1}\") \n",
    "\n",
    "\n",
    "x = 'X'\n",
    "resultat_f2 = f2(x)\n",
    "print(f\"x = (f2) {x} + 'a' = {resultat_f2}\") "
   ]
  },
  {
   "cell_type": "code",
   "execution_count": null,
   "id": "59043cf5",
   "metadata": {},
   "outputs": [],
   "source": [
    "toto = True "
   ]
  },
  {
   "cell_type": "code",
   "execution_count": 23,
   "id": "9b11254d",
   "metadata": {},
   "outputs": [],
   "source": [
    "a=3\n",
    "b=3.14"
   ]
  },
  {
   "cell_type": "code",
   "execution_count": null,
   "id": "8f4cc50e",
   "metadata": {},
   "outputs": [],
   "source": []
  }
 ],
 "metadata": {
  "kernelspec": {
   "display_name": "Python 3 (ipykernel)",
   "language": "python",
   "name": "python3"
  },
  "language_info": {
   "codemirror_mode": {
    "name": "ipython",
    "version": 3
   },
   "file_extension": ".py",
   "mimetype": "text/x-python",
   "name": "python",
   "nbconvert_exporter": "python",
   "pygments_lexer": "ipython3",
   "version": "3.12.3"
  }
 },
 "nbformat": 4,
 "nbformat_minor": 5
}
